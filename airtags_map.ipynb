{
 "cells": [
  {
   "cell_type": "code",
   "execution_count": 2,
   "metadata": {},
   "outputs": [],
   "source": [
    "import pandas as pd\n",
    "import numpy as np\n",
    "import folium\n",
    "from folium.plugins import HeatMap\n",
    "from matplotlib import pyplot as plt\n"
   ]
  },
  {
   "cell_type": "code",
   "execution_count": 7,
   "metadata": {},
   "outputs": [],
   "source": [
    "df = pd.read_csv('location_history.csv')"
   ]
  },
  {
   "cell_type": "code",
   "execution_count": 3,
   "metadata": {},
   "outputs": [],
   "source": [
    "# Create sample data\n",
    "data = {'latitude': [40.7589, 40.7619, 40.7484, 40.7637, 40.7512],\n",
    "        'longitude': [-73.9851, -73.9729, -73.9857, -73.9743, -73.9897],\n",
    "        'timestamp': ['2022-03-25 08:00:00', '2022-03-25 08:15:00',\n",
    "                      '2022-03-25 08:30:00', '2022-03-25 08:45:00',\n",
    "                      '2022-03-25 09:00:00']}\n",
    "df = pd.DataFrame(data)\n"
   ]
  },
  {
   "cell_type": "code",
   "execution_count": 4,
   "metadata": {},
   "outputs": [],
   "source": [
    "# Convert timestamp column to datetime type\n",
    "df['timestamp'] = pd.to_datetime(df['timestamp'])\n",
    "\n",
    "# Sort dataframe by timestamp\n",
    "df = df.sort_values(by='timestamp')\n"
   ]
  },
  {
   "cell_type": "code",
   "execution_count": 5,
   "metadata": {},
   "outputs": [],
   "source": [
    "# Plot each record on a street map with lines connecting each point\n",
    "m = folium.Map(location=[np.mean(df['latitude']), np.mean(df['longitude'])], zoom_start=13)\n",
    "for i in range(len(df)):\n",
    "    if i == 0:\n",
    "        folium.Marker([df.iloc[i]['latitude'], df.iloc[i]['longitude']], \n",
    "                      popup=str(df.iloc[i]['timestamp'])).add_to(m)\n",
    "    else:\n",
    "        folium.PolyLine(locations=[[df.iloc[i-1]['latitude'], df.iloc[i-1]['longitude']], \n",
    "                                    [df.iloc[i]['latitude'], df.iloc[i]['longitude']]], \n",
    "                        popup=str(df.iloc[i]['timestamp']), color='red').add_to(m)\n",
    "m.save('trace_map.html')\n"
   ]
  },
  {
   "cell_type": "code",
   "execution_count": 6,
   "metadata": {},
   "outputs": [],
   "source": [
    "# Create heatmap on a street map\n",
    "hm_data = df[['latitude', 'longitude']].values.tolist()\n",
    "m2 = folium.Map(location=[np.mean(df['latitude']), np.mean(df['longitude'])], zoom_start=13)\n",
    "HeatMap(hm_data).add_to(m2)\n",
    "m2.save('heat_map.html')\n"
   ]
  }
 ],
 "metadata": {
  "kernelspec": {
   "display_name": "venv",
   "language": "python",
   "name": "python3"
  },
  "language_info": {
   "codemirror_mode": {
    "name": "ipython",
    "version": 3
   },
   "file_extension": ".py",
   "mimetype": "text/x-python",
   "name": "python",
   "nbconvert_exporter": "python",
   "pygments_lexer": "ipython3",
   "version": "3.11.2"
  },
  "orig_nbformat": 4
 },
 "nbformat": 4,
 "nbformat_minor": 2
}
