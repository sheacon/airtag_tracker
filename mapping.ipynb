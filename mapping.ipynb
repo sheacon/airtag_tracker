{
 "cells": [
  {
   "cell_type": "code",
   "execution_count": null,
   "metadata": {},
   "outputs": [],
   "source": [
    "import pandas as pd\n",
    "import numpy as np\n",
    "import folium\n",
    "from folium.plugins import HeatMap"
   ]
  },
  {
   "cell_type": "code",
   "execution_count": null,
   "metadata": {},
   "outputs": [],
   "source": [
    "# read csv file\n",
    "df = pd.read_csv('location_history.csv')\n",
    "\n",
    "# keep unique records in df by locationtimestamp\n",
    "df = df.drop_duplicates(subset=['locationtimestamp'])\n",
    "\n",
    "# sort by locationtimestamp\n",
    "df = df.sort_values(by=['locationtimestamp'])\n",
    "\n",
    "# convert timestamps to datetime\n",
    "df['findmytime'] = pd.to_datetime(df['findmytime'])\n",
    "df['locationtimestamp'] = pd.to_datetime(df['locationtimestamp'].astype(str).str[:-3], unit='s')"
   ]
  },
  {
   "cell_type": "code",
   "execution_count": null,
   "metadata": {},
   "outputs": [],
   "source": [
    "# select airtag to map by name\n",
    "tagname = \"Carl\"\n",
    "df = df[df[\"tagname\"] == tagname]"
   ]
  },
  {
   "cell_type": "code",
   "execution_count": null,
   "metadata": {},
   "outputs": [],
   "source": [
    "df.head()"
   ]
  },
  {
   "cell_type": "code",
   "execution_count": null,
   "metadata": {},
   "outputs": [],
   "source": [
    "# generic field names\n",
    "df[\"latitude\"] = df[\"locationlatitude\"]\n",
    "df[\"longitude\"] = df[\"locationlongitude\"]\n",
    "df[\"timestamp\"] = df[\"findmytime\"]"
   ]
  },
  {
   "cell_type": "code",
   "execution_count": null,
   "metadata": {},
   "outputs": [],
   "source": [
    "# export heatmap\n",
    "hm_data = df[['latitude', 'longitude']].values.tolist()\n",
    "m2 = folium.Map(location=[np.mean(df['latitude']), np.mean(df['longitude'])], zoom_start=13)\n",
    "HeatMap(hm_data).add_to(m2)\n",
    "\n",
    "# heatmap file\n",
    "m2.save('mapping_heat.html')\n"
   ]
  },
  {
   "cell_type": "code",
   "execution_count": null,
   "metadata": {},
   "outputs": [],
   "source": [
    "# export tracemap\n",
    "m = folium.Map(location=[np.mean(df['latitude']), np.mean(df['longitude'])], zoom_start=13)\n",
    "for i in range(len(df)):\n",
    "    if i == 0:\n",
    "        folium.Marker([df.iloc[i]['latitude'], df.iloc[i]['longitude']], \n",
    "                      popup=str(df.iloc[i]['timestamp'])).add_to(m)\n",
    "    else:\n",
    "        folium.PolyLine(locations=[[df.iloc[i-1]['latitude'], df.iloc[i-1]['longitude']], \n",
    "                                    [df.iloc[i]['latitude'], df.iloc[i]['longitude']]], \n",
    "                        popup=str(df.iloc[i]['timestamp']), color='red').add_to(m)\n",
    "\n",
    "# tracemap file\n",
    "m.save('mapping_trace.html')\n"
   ]
  },
  {
   "cell_type": "code",
   "execution_count": null,
   "metadata": {},
   "outputs": [],
   "source": []
  }
 ],
 "metadata": {
  "kernelspec": {
   "display_name": "venv",
   "language": "python",
   "name": "python3"
  },
  "language_info": {
   "codemirror_mode": {
    "name": "ipython",
    "version": 3
   },
   "file_extension": ".py",
   "mimetype": "text/x-python",
   "name": "python",
   "nbconvert_exporter": "python",
   "pygments_lexer": "ipython3",
   "version": "3.11.2"
  },
  "orig_nbformat": 4
 },
 "nbformat": 4,
 "nbformat_minor": 2
}
